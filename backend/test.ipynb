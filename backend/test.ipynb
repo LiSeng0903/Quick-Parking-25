{
   "cells": [
      {
         "cell_type": "code",
         "execution_count": 1,
         "metadata": {},
         "outputs": [],
         "source": [
            "import sys\n",
            "from datetime import datetime\n",
            "\n",
            "sys.path.append(\"./application/services/\")\n",
            "sys.path.append(\"./application/database/interfaces/\")\n",
            "\n",
            "import service_functions as ser_func\n",
            "from ParkingSpaceInterface import ParkingSpaceInterface as PSI\n",
            "from connection import connect_to_db"
         ]
      },
      {
         "cell_type": "code",
         "execution_count": 3,
         "metadata": {},
         "outputs": [
            {
               "data": {
                  "text/plain": [
                     "(True, '車輛 AAA-BdBAS 已停入停車位 1005')"
                  ]
               },
               "execution_count": 3,
               "metadata": {},
               "output_type": "execute_result"
            }
         ],
         "source": [
            "ser_func.park_car(\"1005\", \"AAA-BdBAS\")"
         ]
      },
      {
         "cell_type": "code",
         "execution_count": null,
         "metadata": {},
         "outputs": [],
         "source": []
      }
   ],
   "metadata": {
      "kernelspec": {
         "display_name": "Python 3",
         "language": "python",
         "name": "python3"
      },
      "language_info": {
         "codemirror_mode": {
            "name": "ipython",
            "version": 3
         },
         "file_extension": ".py",
         "mimetype": "text/x-python",
         "name": "python",
         "nbconvert_exporter": "python",
         "pygments_lexer": "ipython3",
         "version": "3.10.2"
      }
   },
   "nbformat": 4,
   "nbformat_minor": 2
}
