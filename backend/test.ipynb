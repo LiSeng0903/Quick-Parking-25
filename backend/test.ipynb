{
   "cells": [
      {
         "cell_type": "code",
         "execution_count": 1,
         "metadata": {},
         "outputs": [],
         "source": [
            "import sys\n",
            "from datetime import datetime\n",
            "\n",
            "sys.path.append(\"./application/services/\")\n",
            "sys.path.append(\"./application/database/interfaces/\")\n",
            "sys.path.append(\"./application/database/db_functions/\")\n",
            "\n",
            "import service_functions as ser_func\n",
            "import parking_space_functions as ps_func\n",
            "from ParkingSpaceInterface import ParkingSpaceInterface as PSI\n",
            "from connection import connect_to_db\n",
            "from general_functions import now, datetime_delta_to_str"
         ]
      }
   ],
   "metadata": {
      "kernelspec": {
         "display_name": "Python 3",
         "language": "python",
         "name": "python3"
      },
      "language_info": {
         "codemirror_mode": {
            "name": "ipython",
            "version": 3
         },
         "file_extension": ".py",
         "mimetype": "text/x-python",
         "name": "python",
         "nbconvert_exporter": "python",
         "pygments_lexer": "ipython3",
         "version": "3.10.2"
      }
   },
   "nbformat": 4,
   "nbformat_minor": 2
}
