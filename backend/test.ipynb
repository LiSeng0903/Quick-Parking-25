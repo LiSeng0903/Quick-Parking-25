{
   "cells": [
      {
         "cell_type": "code",
         "execution_count": 2,
         "metadata": {},
         "outputs": [],
         "source": [
            "import sys\n",
            "from datetime import datetime\n",
            "\n",
            "sys.path.append(\"./application/services/\")\n",
            "sys.path.append(\"./application/database/interfaces/\")\n",
            "\n",
            "import service_functions as ser_func\n",
            "from ParkingSpaceInterface import ParkingSpaceInterface as PSI\n",
            "from connection import connect_to_db"
         ]
      },
      {
         "cell_type": "code",
         "execution_count": 3,
         "metadata": {},
         "outputs": [],
         "source": [
            "m = ser_func.guard_get_space_by_floor(2)"
         ]
      },
      {
         "cell_type": "code",
         "execution_count": 5,
         "metadata": {},
         "outputs": [
            {
               "data": {
                  "text/plain": [
                     "[{'space_id': '2001',\n",
                     "  'space_type': 'priority',\n",
                     "  'occupied': False,\n",
                     "  'status': 'OK'},\n",
                     " {'space_id': '2002',\n",
                     "  'space_type': 'priority',\n",
                     "  'occupied': False,\n",
                     "  'status': 'OK'},\n",
                     " {'space_id': '2003',\n",
                     "  'space_type': 'priority',\n",
                     "  'occupied': False,\n",
                     "  'status': 'OK'},\n",
                     " {'space_id': '2004',\n",
                     "  'space_type': 'priority',\n",
                     "  'occupied': False,\n",
                     "  'status': 'OK'},\n",
                     " {'space_id': '2005',\n",
                     "  'space_type': 'priority',\n",
                     "  'occupied': False,\n",
                     "  'status': 'OK'},\n",
                     " {'space_id': '2006',\n",
                     "  'space_type': 'priority',\n",
                     "  'occupied': False,\n",
                     "  'status': 'OK'},\n",
                     " {'space_id': '2007',\n",
                     "  'space_type': 'priority',\n",
                     "  'occupied': False,\n",
                     "  'status': 'OK'},\n",
                     " {'space_id': '2008',\n",
                     "  'space_type': 'priority',\n",
                     "  'occupied': False,\n",
                     "  'status': 'OK'},\n",
                     " {'space_id': '2009',\n",
                     "  'space_type': 'priority',\n",
                     "  'occupied': False,\n",
                     "  'status': 'OK'},\n",
                     " {'space_id': '2010',\n",
                     "  'space_type': 'priority',\n",
                     "  'occupied': False,\n",
                     "  'status': 'OK'},\n",
                     " {'space_id': '2011', 'space_type': 'car', 'occupied': False, 'status': 'OK'},\n",
                     " {'space_id': '2012', 'space_type': 'car', 'occupied': False, 'status': 'OK'},\n",
                     " {'space_id': '2013', 'space_type': 'car', 'occupied': False, 'status': 'OK'},\n",
                     " {'space_id': '2014', 'space_type': 'car', 'occupied': False, 'status': 'OK'},\n",
                     " {'space_id': '2015', 'space_type': 'car', 'occupied': False, 'status': 'OK'},\n",
                     " {'space_id': '2016', 'space_type': 'car', 'occupied': False, 'status': 'OK'},\n",
                     " {'space_id': '2017', 'space_type': 'car', 'occupied': False, 'status': 'OK'},\n",
                     " {'space_id': '2018', 'space_type': 'car', 'occupied': False, 'status': 'OK'},\n",
                     " {'space_id': '2019', 'space_type': 'car', 'occupied': False, 'status': 'OK'},\n",
                     " {'space_id': '2020', 'space_type': 'car', 'occupied': False, 'status': 'OK'},\n",
                     " {'space_id': '2021', 'space_type': 'car', 'occupied': False, 'status': 'OK'},\n",
                     " {'space_id': '2022', 'space_type': 'car', 'occupied': False, 'status': 'OK'},\n",
                     " {'space_id': '2023', 'space_type': 'car', 'occupied': False, 'status': 'OK'},\n",
                     " {'space_id': '2024', 'space_type': 'car', 'occupied': False, 'status': 'OK'},\n",
                     " {'space_id': '2025', 'space_type': 'car', 'occupied': False, 'status': 'OK'},\n",
                     " {'space_id': '2026', 'space_type': 'car', 'occupied': False, 'status': 'OK'},\n",
                     " {'space_id': '2027', 'space_type': 'car', 'occupied': False, 'status': 'OK'},\n",
                     " {'space_id': '2028', 'space_type': 'car', 'occupied': False, 'status': 'OK'},\n",
                     " {'space_id': '2029', 'space_type': 'car', 'occupied': False, 'status': 'OK'},\n",
                     " {'space_id': '2030', 'space_type': 'car', 'occupied': False, 'status': 'OK'},\n",
                     " {'space_id': '2031', 'space_type': 'car', 'occupied': False, 'status': 'OK'},\n",
                     " {'space_id': '2032', 'space_type': 'car', 'occupied': False, 'status': 'OK'},\n",
                     " {'space_id': '2033', 'space_type': 'car', 'occupied': False, 'status': 'OK'},\n",
                     " {'space_id': '2034', 'space_type': 'car', 'occupied': False, 'status': 'OK'},\n",
                     " {'space_id': '2035', 'space_type': 'car', 'occupied': False, 'status': 'OK'},\n",
                     " {'space_id': '2036', 'space_type': 'car', 'occupied': False, 'status': 'OK'},\n",
                     " {'space_id': '2037', 'space_type': 'car', 'occupied': False, 'status': 'OK'},\n",
                     " {'space_id': '2038', 'space_type': 'car', 'occupied': False, 'status': 'OK'},\n",
                     " {'space_id': '2039', 'space_type': 'car', 'occupied': False, 'status': 'OK'},\n",
                     " {'space_id': '2040', 'space_type': 'car', 'occupied': False, 'status': 'OK'}]"
                  ]
               },
               "execution_count": 5,
               "metadata": {},
               "output_type": "execute_result"
            }
         ],
         "source": [
            "m[\"A\"]"
         ]
      }
   ],
   "metadata": {
      "kernelspec": {
         "display_name": "Python 3",
         "language": "python",
         "name": "python3"
      },
      "language_info": {
         "codemirror_mode": {
            "name": "ipython",
            "version": 3
         },
         "file_extension": ".py",
         "mimetype": "text/x-python",
         "name": "python",
         "nbconvert_exporter": "python",
         "pygments_lexer": "ipython3",
         "version": "3.10.2"
      }
   },
   "nbformat": 4,
   "nbformat_minor": 2
}
