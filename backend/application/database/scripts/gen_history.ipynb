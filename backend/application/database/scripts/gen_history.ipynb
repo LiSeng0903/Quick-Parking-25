{
 "cells": [
  {
   "cell_type": "code",
   "execution_count": 2,
   "metadata": {},
   "outputs": [],
   "source": [
    "import sys\n",
    "import random\n",
    "import logging\n",
    "import numpy as np \n",
    "\n",
    "sys.path.append(\"../interfaces/\")\n",
    "sys.path.append(\"../db_functions/\")\n",
    "sys.path.append(\"../../services/\")\n",
    "\n",
    "from unittest.mock import patch\n",
    "import datetime\n",
    "\n",
    "from connection import connect_to_db\n",
    "from ParkingSpaceInterface import ParkingSpaceInterface as PSI\n",
    "import service_functions as serv_func\n",
    "import parking_space_functions as ps_func\n",
    "from gen_test_data import reset_all_ps "
   ]
  },
  {
   "cell_type": "code",
   "execution_count": 3,
   "metadata": {},
   "outputs": [
    {
     "data": {
      "text/plain": [
       "True"
      ]
     },
     "execution_count": 3,
     "metadata": {},
     "output_type": "execute_result"
    }
   ],
   "source": [
    "connect_to_db()"
   ]
  },
  {
   "cell_type": "code",
   "execution_count": 3,
   "metadata": {},
   "outputs": [],
   "source": [
    "def park_car_at_time(space_id, car_id, time):\n",
    "    @patch(\"parking_space_functions.now\")\n",
    "    def park(mock_now):\n",
    "        mock_now.return_value = time\n",
    "        return serv_func.park_car(space_id, car_id)\n",
    "\n",
    "    return park()\n",
    "\n",
    "\n",
    "def leave_car_at_time(car_id, time):\n",
    "    @patch(\"parking_space_functions.now\")\n",
    "    def leave(mock_now):\n",
    "        mock_now.return_value = time\n",
    "        return serv_func.leave_car(car_id)\n",
    "\n",
    "    return leave()\n",
    "\n",
    "\n",
    "def generate_license_plate():\n",
    "    import string\n",
    "\n",
    "    letters = \"\".join(random.choices(string.ascii_uppercase, k=3))\n",
    "    numbers = \"\".join(random.choices(string.digits, k=4))\n",
    "    return letters + numbers"
   ]
  },
  {
   "cell_type": "code",
   "execution_count": 4,
   "metadata": {},
   "outputs": [],
   "source": [
    "def gen_ps_history():\n",
    "    logging.basicConfig(level=logging.DEBUG)\n",
    "\n",
    "    park_cnt = {}  # 停車車次\n",
    "    flow = {}\n",
    "\n",
    "    # 清空所有停車格\n",
    "    logging.debug(\"reset_all_ps\")\n",
    "    reset_all_ps()\n",
    "    logging.debug(\"reset_all_ps done\")\n",
    "\n",
    "    # 設定產生資料的時間範圍\n",
    "    start_date = datetime.datetime(2023, 12, 18)\n",
    "    end_date = datetime.datetime(2023, 12, 21)\n",
    "\n",
    "    # 產生車牌號碼\n",
    "    car_ids = [generate_license_plate() for i in range(3000)]\n",
    "    car_ids = list(set(car_ids))\n",
    "\n",
    "    # 取得所有停車格的 id\n",
    "    pss = PSI.read_all_ps()\n",
    "    spaces_ids = [ps[\"space_id\"] for ps in pss]\n",
    "\n",
    "    # 紀錄每台車停在哪個停車格\n",
    "    park_at = {}\n",
    "    \n",
    "    # 要測試警告的車位\n",
    "    warning_test_space_ids = [\"1001, 2001, 3001, 4001, 5001\"]\n",
    "\n",
    "    # probability\n",
    "    probability = {\n",
    "        \"park\": np.array([1, 1, 1, 1, 1, 5, 8, 15, 15, 15, 7, 3, 5, 4, 3, 2, 2, 2, 2, 2, 2, 1, 1, 1]),\n",
    "        \"leave\": np.array([1, 1, 1, 1, 1, 3, 2, 2, 2, 2, 7, 16, 4, 4, 1, 4, 5, 6, 8, 8, 9, 5, 5, 2]),\n",
    "    }\n",
    "\n",
    "    probability[\"park\"] = probability[\"park\"] / 50\n",
    "    probability[\"leave\"] = probability[\"leave\"] / 50\n",
    "\n",
    "    # 開始模擬\n",
    "    current_date = start_date\n",
    "    while current_date <= end_date:\n",
    "        park_cnt[current_date] = 0\n",
    "\n",
    "        for hour in range(6, 22):\n",
    "            if current_date == end_date and hour >10:\n",
    "                continue\n",
    "            \n",
    "            current_hour = current_date + datetime.timedelta(hours=hour)\n",
    "            flow[current_hour] = len(park_at)\n",
    "\n",
    "            for sec in range(0, 3600, 5):\n",
    "                random_num = random.random()\n",
    "                park_prob = probability[\"park\"][hour]\n",
    "                leave_prob = probability[\"leave\"][hour] + park_prob\n",
    "\n",
    "                if random_num < park_prob:\n",
    "                    park_cnt[current_date] += 1\n",
    "\n",
    "                    # 選出一個沒有停車的車子和一個沒有被佔用的停車格\n",
    "                    not_parked_car_ids = [car_id for car_id in car_ids if car_id not in park_at.keys()]\n",
    "                    not_occupied_space_ids = [space_id for space_id in spaces_ids if space_id not in park_at.values()]\n",
    "                    if len(not_occupied_space_ids) == 0 or len(not_parked_car_ids) == 0:\n",
    "                        continue\n",
    "                    car_id = random.choice(not_parked_car_ids)\n",
    "                    space_id = random.choice(not_occupied_space_ids)\n",
    "\n",
    "                    # 停車\n",
    "                    current_time = current_hour + datetime.timedelta(seconds=sec)\n",
    "                    park_at[car_id] = space_id\n",
    "                    success, msg = park_car_at_time(space_id, car_id, current_time)\n",
    "\n",
    "                    # 印出停車資訊\n",
    "                    logging.debug(f\"{current_time}: {msg}\")\n",
    "\n",
    "                elif random_num < leave_prob:\n",
    "                    # 選出一個已經停車的車子\n",
    "                    parking_car_ids = [car_id for car_id in car_ids if car_id in park_at.keys()]\n",
    "                    if len(parking_car_ids) == 0:\n",
    "                        continue\n",
    "                    car_id = random.choice(parking_car_ids)\n",
    "                    \n",
    "                    # 如果是要測試警告的車位，就不要離場\n",
    "                    if park_at[car_id] in warning_test_space_ids:\n",
    "                        continue\n",
    "\n",
    "                    # 車子離場\n",
    "                    current_time = current_hour + datetime.timedelta(seconds=sec)\n",
    "                    park_at.pop(car_id)\n",
    "                    success, msg = leave_car_at_time(car_id, current_time)\n",
    "\n",
    "                    # 印出離場資訊\n",
    "                    logging.debug(f\"{current_time}: {msg}\")\n",
    "\n",
    "        current_date += datetime.timedelta(days=1)\n",
    "        ps_func.check_pss_status()\n",
    "\n",
    "    return park_cnt, park_at, flow"
   ]
  },
  {
   "cell_type": "code",
   "execution_count": 1,
   "metadata": {},
   "outputs": [
    {
     "ename": "NameError",
     "evalue": "name 'gen_ps_history' is not defined",
     "output_type": "error",
     "traceback": [
      "\u001b[1;31m---------------------------------------------------------------------------\u001b[0m",
      "\u001b[1;31mNameError\u001b[0m                                 Traceback (most recent call last)",
      "Cell \u001b[1;32mIn[1], line 1\u001b[0m\n\u001b[1;32m----> 1\u001b[0m \u001b[43mgen_ps_history\u001b[49m()\n",
      "\u001b[1;31mNameError\u001b[0m: name 'gen_ps_history' is not defined"
     ]
    }
   ],
   "source": [
    "gen_ps_history()"
   ]
  }
 ],
 "metadata": {
  "kernelspec": {
   "display_name": "Python 3",
   "language": "python",
   "name": "python3"
  },
  "language_info": {
   "codemirror_mode": {
    "name": "ipython",
    "version": 3
   },
   "file_extension": ".py",
   "mimetype": "text/x-python",
   "name": "python",
   "nbconvert_exporter": "python",
   "pygments_lexer": "ipython3",
   "version": "3.10.2"
  }
 },
 "nbformat": 4,
 "nbformat_minor": 2
}
